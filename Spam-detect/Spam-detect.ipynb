{
 "cells": [
  {
   "cell_type": "code",
   "execution_count": 1,
   "id": "4850aa03-43df-4195-932e-3df4f21ef086",
   "metadata": {},
   "outputs": [],
   "source": [
    "import pandas as pd\n",
    "import numpy as np\n",
    "import matplotlib as plt\n",
    "import seaborn as sns\n",
    "from sklearn.feature_extraction.text import CountVectorizer\n",
    "from sklearn.model_selection import train_test_split\n",
    "import pickle\n",
    "from sklearn.preprocessing import LabelEncoder\n",
    "from sklearn.linear_model import LogisticRegression\n",
    "from sklearn.ensemble import RandomForestClassifier\n",
    "from sklearn.naive_bayes import MultinomialNB\n",
    "from sklearn.tree import DecisionTreeClassifier"
   ]
  },
  {
   "cell_type": "code",
   "execution_count": 2,
   "id": "cd955241-6105-4817-8959-be9c1259eb61",
   "metadata": {},
   "outputs": [],
   "source": [
    "df = pd.read_csv('email.csv')"
   ]
  },
  {
   "cell_type": "code",
   "execution_count": 3,
   "id": "8fc89026-2483-4657-a5bf-cc3faed18e41",
   "metadata": {},
   "outputs": [],
   "source": [
    "df = df[df['Category']!='{\"mode\":\"full\"']"
   ]
  },
  {
   "cell_type": "code",
   "execution_count": 9,
   "id": "ad7522d8-56e1-4b9d-bfed-d61fa97c64f1",
   "metadata": {},
   "outputs": [],
   "source": [
    "X_train, X_test, y_train, y_test = train_test_split(df['Message'],df['Category'],test_size=0.2,random_state=39)"
   ]
  },
  {
   "cell_type": "code",
   "execution_count": 10,
   "id": "7c403948-4557-4278-bbc6-7cbb925ad757",
   "metadata": {},
   "outputs": [],
   "source": [
    "cv = CountVectorizer()\n",
    "X_train = cv.fit_transform(X_train).toarray()\n",
    "X_test = cv.transform(X_test).toarray()"
   ]
  },
  {
   "cell_type": "code",
   "execution_count": 11,
   "id": "dcbcdf0b-417b-49ae-833a-e74bb5e32c9c",
   "metadata": {},
   "outputs": [],
   "source": [
    "le = LabelEncoder().fit(y_train)\n",
    "y_train = le.transform(y_train)\n",
    "y_test = le.transform(y_test)"
   ]
  },
  {
   "cell_type": "code",
   "execution_count": 12,
   "id": "1ac2ca69-0276-4e6a-a6aa-312f97abe85e",
   "metadata": {
    "scrolled": true
   },
   "outputs": [],
   "source": [
    "rf = RandomForestClassifier().fit(X_train,y_train)\n",
    "dtc = DecisionTreeClassifier().fit(X_train,y_train)\n",
    "mnb = MultinomialNB().fit(X_train,y_train)"
   ]
  },
  {
   "cell_type": "code",
   "execution_count": 24,
   "id": "317429f0-bf10-4faf-8222-d18f5af5e304",
   "metadata": {},
   "outputs": [
    {
     "data": {
      "text/plain": [
       "0.9757847533632287"
      ]
     },
     "execution_count": 24,
     "metadata": {},
     "output_type": "execute_result"
    }
   ],
   "source": [
    "lc = LogisticRegression().fit(X_train,y_train)\n",
    "lc.score(X_test,y_test)"
   ]
  },
  {
   "cell_type": "code",
   "execution_count": 14,
   "id": "0d7ba4fc-7967-4d4c-93db-ea54d3ed75be",
   "metadata": {},
   "outputs": [
    {
     "name": "stdout",
     "output_type": "stream",
     "text": [
      "\n",
      "rf : 0.967713004484305,\n",
      "dtc : 0.9695067264573991\n",
      "mnb : 0.9811659192825112\n",
      "\n"
     ]
    }
   ],
   "source": [
    "print(f\"\"\"\n",
    "rf : {rf.score(X_test,y_test)},\n",
    "dtc : {dtc.score(X_test,y_test)}\n",
    "mnb : {mnb.score(X_test,y_test)}\n",
    "\"\"\")"
   ]
  },
  {
   "cell_type": "code",
   "execution_count": 19,
   "id": "7f81b3d5-fd80-4765-910f-19ec161ba193",
   "metadata": {},
   "outputs": [],
   "source": [
    "def factcheck(value,model):\n",
    "    tf = cv.transform([value])\n",
    "    result = model.predict(tf.toarray())\n",
    "    if result == np.array([1]):\n",
    "        return \"spam\"\n",
    "    else:\n",
    "        return \"ham\""
   ]
  },
  {
   "cell_type": "code",
   "execution_count": 39,
   "id": "c7ff9e84-c7cd-4308-9f84-87271c7b5234",
   "metadata": {},
   "outputs": [
    {
     "data": {
      "text/plain": [
       "'spam'"
      ]
     },
     "execution_count": 39,
     "metadata": {},
     "output_type": "execute_result"
    }
   ],
   "source": [
    "factcheck(\"\"\"hey danny you win a prize to claim you prize follow this link\"\"\",mnb)"
   ]
  },
  {
   "cell_type": "code",
   "execution_count": null,
   "id": "d438d571-9072-4a52-9cd7-42e267676a8b",
   "metadata": {},
   "outputs": [],
   "source": []
  }
 ],
 "metadata": {
  "kernelspec": {
   "display_name": "Python 3 (ipykernel)",
   "language": "python",
   "name": "python3"
  },
  "language_info": {
   "codemirror_mode": {
    "name": "ipython",
    "version": 3
   },
   "file_extension": ".py",
   "mimetype": "text/x-python",
   "name": "python",
   "nbconvert_exporter": "python",
   "pygments_lexer": "ipython3",
   "version": "3.12.4"
  }
 },
 "nbformat": 4,
 "nbformat_minor": 5
}
