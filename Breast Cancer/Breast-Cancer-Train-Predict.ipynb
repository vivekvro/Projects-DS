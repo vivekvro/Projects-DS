{
 "cells": [
  {
   "cell_type": "code",
   "execution_count": 12,
   "id": "8755d8ca-c409-445d-a12f-3c6d18e784e7",
   "metadata": {},
   "outputs": [],
   "source": [
    "import pandas as pd\n",
    "import numpy as np \n",
    "from sklearn.linear_model import LogisticRegression\n",
    "from sklearn.ensemble import RandomForestClassifier\n",
    "from sklearn.model_selection import train_test_split\n",
    "from sklearn.preprocessing import LabelEncoder\n",
    "from sklearn.pipeline import make_pipeline\n",
    "from sklearn.metrics import accuracy_score"
   ]
  },
  {
   "cell_type": "code",
   "execution_count": 13,
   "id": "a6cdb601-7e84-410c-afd8-e0fec64fb1fc",
   "metadata": {},
   "outputs": [],
   "source": [
    "df=pd.read_csv('breast-cancer.csv')"
   ]
  },
  {
   "cell_type": "code",
   "execution_count": 14,
   "id": "51a842c2-2017-4fce-bde7-33578ed0ca5f",
   "metadata": {},
   "outputs": [],
   "source": [
    "#EDA was done in different Notebook"
   ]
  },
  {
   "cell_type": "code",
   "execution_count": 15,
   "id": "aa5db48c-6ef9-458e-9cbf-80f335130e6f",
   "metadata": {},
   "outputs": [],
   "source": [
    "df.drop(['id'],axis=1,inplace=True)"
   ]
  },
  {
   "cell_type": "code",
   "execution_count": 16,
   "id": "51fba460-e5a3-47e1-a47f-078b728fd0bd",
   "metadata": {},
   "outputs": [],
   "source": [
    "df['diagnosis'] = LabelEncoder().fit_transform(df['diagnosis']) # M = 1 ,  B=0"
   ]
  },
  {
   "cell_type": "code",
   "execution_count": 17,
   "id": "0db5d2b6-1aa9-4e59-9fdf-7eaa4bb6689d",
   "metadata": {},
   "outputs": [],
   "source": [
    "X_train, X_test, y_train, y_test = train_test_split(df.drop(['diagnosis'],axis=1),df['diagnosis'],test_size=0.2,random_state=39)"
   ]
  },
  {
   "cell_type": "code",
   "execution_count": 48,
   "id": "c11b6ec9-fe79-4c98-8a60-023ec0022fe3",
   "metadata": {},
   "outputs": [],
   "source": [
    "rf = RandomForestClassifier().fit(X_train.to_numpy(),y_train)"
   ]
  },
  {
   "cell_type": "code",
   "execution_count": 52,
   "id": "d8dc034e-6d20-4509-a152-6db316b9f4a7",
   "metadata": {},
   "outputs": [],
   "source": [
    "y_pred = rf.predict(X_test.to_numpy())"
   ]
  },
  {
   "cell_type": "code",
   "execution_count": 53,
   "id": "870deec8-996f-45ac-b0ab-22e519793c9c",
   "metadata": {},
   "outputs": [
    {
     "data": {
      "text/plain": [
       "0.9824561403508771"
      ]
     },
     "execution_count": 53,
     "metadata": {},
     "output_type": "execute_result"
    }
   ],
   "source": [
    "accuracy_score(y_test,y_pred)"
   ]
  },
  {
   "cell_type": "code",
   "execution_count": 54,
   "id": "c172fb31-45ca-4efd-b776-d31b705558f8",
   "metadata": {},
   "outputs": [],
   "source": [
    "test_data = X_test.iloc[1,:].to_numpy()"
   ]
  },
  {
   "cell_type": "code",
   "execution_count": 58,
   "id": "131d9ad3-b3b9-4d28-90c3-91cef8010422",
   "metadata": {
    "jupyter": {
     "source_hidden": true
    }
   },
   "outputs": [],
   "source": [
    "def result(question):\n",
    "    result = rf.predict([question])\n",
    "    if result == np.array([1]):\n",
    "        print(\"Malignant\")\n",
    "    else:\n",
    "        print(\"Benign\")"
   ]
  },
  {
   "cell_type": "code",
   "execution_count": 59,
   "id": "f63fb657-4ea0-4af4-bb4a-88da7d373d27",
   "metadata": {},
   "outputs": [
    {
     "name": "stdout",
     "output_type": "stream",
     "text": [
      "Malignant\n"
     ]
    }
   ],
   "source": [
    "result(test_data)"
   ]
  },
  {
   "cell_type": "code",
   "execution_count": null,
   "id": "f045b95d-8701-414e-bb52-254ee90fed7e",
   "metadata": {},
   "outputs": [],
   "source": []
  }
 ],
 "metadata": {
  "kernelspec": {
   "display_name": "Python 3 (ipykernel)",
   "language": "python",
   "name": "python3"
  },
  "language_info": {
   "codemirror_mode": {
    "name": "ipython",
    "version": 3
   },
   "file_extension": ".py",
   "mimetype": "text/x-python",
   "name": "python",
   "nbconvert_exporter": "python",
   "pygments_lexer": "ipython3",
   "version": "3.12.4"
  }
 },
 "nbformat": 4,
 "nbformat_minor": 5
}
